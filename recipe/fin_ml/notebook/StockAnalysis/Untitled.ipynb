{
 "cells": [
  {
   "cell_type": "code",
   "execution_count": 5,
   "id": "e3629f65-a137-4867-aa53-8d1d900d51bd",
   "metadata": {},
   "outputs": [
    {
     "ename": "ImportError",
     "evalue": "cannot import name 'models' from 'volatility' (/opt/conda/lib/python3.8/site-packages/volatility/__init__.py)",
     "output_type": "error",
     "traceback": [
      "\u001b[0;31m---------------------------------------------------------------------------\u001b[0m",
      "\u001b[0;31mImportError\u001b[0m                               Traceback (most recent call last)",
      "\u001b[0;32m<ipython-input-5-5bfc98bb5d8a>\u001b[0m in \u001b[0;36m<module>\u001b[0;34m\u001b[0m\n\u001b[0;32m----> 1\u001b[0;31m \u001b[0;32mfrom\u001b[0m \u001b[0mvolatility\u001b[0m \u001b[0;32mimport\u001b[0m \u001b[0mvolest\u001b[0m\u001b[0;34m\u001b[0m\u001b[0;34m\u001b[0m\u001b[0m\n\u001b[0m\u001b[1;32m      2\u001b[0m \u001b[0;32mfrom\u001b[0m \u001b[0mvolatility\u001b[0m \u001b[0;32mimport\u001b[0m \u001b[0mdata\u001b[0m\u001b[0;34m\u001b[0m\u001b[0;34m\u001b[0m\u001b[0m\n\u001b[1;32m      3\u001b[0m \u001b[0;32mfrom\u001b[0m \u001b[0mvolatility\u001b[0m \u001b[0;32mimport\u001b[0m \u001b[0mmodels\u001b[0m\u001b[0;34m\u001b[0m\u001b[0;34m\u001b[0m\u001b[0m\n\u001b[1;32m      4\u001b[0m \u001b[0;34m\u001b[0m\u001b[0m\n\u001b[1;32m      5\u001b[0m \u001b[0;31m# data\u001b[0m\u001b[0;34m\u001b[0m\u001b[0;34m\u001b[0m\u001b[0;34m\u001b[0m\u001b[0m\n",
      "\u001b[0;32m/opt/conda/lib/python3.8/site-packages/volatility/volest.py\u001b[0m in \u001b[0;36m<module>\u001b[0;34m\u001b[0m\n\u001b[1;32m     10\u001b[0m \u001b[0;32mfrom\u001b[0m \u001b[0mmatplotlib\u001b[0m\u001b[0;34m.\u001b[0m\u001b[0mbackends\u001b[0m\u001b[0;34m.\u001b[0m\u001b[0mbackend_pdf\u001b[0m \u001b[0;32mimport\u001b[0m \u001b[0mPdfPages\u001b[0m\u001b[0;34m\u001b[0m\u001b[0;34m\u001b[0m\u001b[0m\n\u001b[1;32m     11\u001b[0m \u001b[0;34m\u001b[0m\u001b[0m\n\u001b[0;32m---> 12\u001b[0;31m \u001b[0;32mfrom\u001b[0m \u001b[0mvolatility\u001b[0m \u001b[0;32mimport\u001b[0m \u001b[0mmodels\u001b[0m\u001b[0;34m\u001b[0m\u001b[0;34m\u001b[0m\u001b[0m\n\u001b[0m\u001b[1;32m     13\u001b[0m \u001b[0;34m\u001b[0m\u001b[0m\n\u001b[1;32m     14\u001b[0m ESTIMATORS = [\n",
      "\u001b[0;31mImportError\u001b[0m: cannot import name 'models' from 'volatility' (/opt/conda/lib/python3.8/site-packages/volatility/__init__.py)"
     ]
    }
   ],
   "source": [
    "from volatility import volest\n",
    "from volatility import data\n",
    "from models import models\n",
    "\n",
    "# data\n",
    "symbol = 'JPM'\n",
    "bench = '^GSPC'\n",
    "data_file_path = '../JPM.csv'\n",
    "bench_file_path = '../BENCH.csv'\n",
    "estimator = 'GarmanKlass'"
   ]
  },
  {
   "cell_type": "code",
   "execution_count": 3,
   "id": "409f2df4-e7f9-40c6-b7f0-93c218e71a89",
   "metadata": {},
   "outputs": [],
   "source": [
    "# estimator windows\n",
    "window = 30\n",
    "windows = [30, 60, 90, 120]\n",
    "quantiles = [0.25, 0.75]\n",
    "bins = 100\n",
    "normed = True"
   ]
  },
  {
   "cell_type": "code",
   "execution_count": 3,
   "id": "18fc6107-f43f-4422-9686-5809c4f52b5e",
   "metadata": {},
   "outputs": [],
   "source": []
  },
  {
   "cell_type": "code",
   "execution_count": 3,
   "id": "15a45c7a-5e5b-4aee-ad9f-cdec66beabbe",
   "metadata": {},
   "outputs": [],
   "source": [
    "# use the yahoo helper to correctly format data from finance.yahoo.com\n",
    "jpm_price_data = data.yahoo_helper(symbol, data_file_path)\n",
    "spx_price_data = data.yahoo_helper(bench, bench_file_path)"
   ]
  },
  {
   "cell_type": "code",
   "execution_count": 3,
   "id": "02e46102-daff-4003-875e-38fa6316af34",
   "metadata": {},
   "outputs": [],
   "source": []
  },
  {
   "cell_type": "code",
   "execution_count": 3,
   "id": "5b137d13-b853-4535-a28b-b1dc64096fd0",
   "metadata": {},
   "outputs": [],
   "source": [
    "# initialize class\n",
    "vol = volest.VolatilityEstimator(\n",
    "    price_data=jpm_price_data,\n",
    "    estimator=estimator,\n",
    "    bench_data=spx_price_data\n",
    ")"
   ]
  },
  {
   "cell_type": "code",
   "execution_count": 3,
   "id": "c5432609-09d4-463e-9786-f14b73fb9e99",
   "metadata": {},
   "outputs": [],
   "source": [
    "# call plt.show() on any of the below...\n",
    "_, plt = vol.cones(windows=windows, quantiles=quantiles)\n",
    "_, plt = vol.rolling_quantiles(window=window, quantiles=quantiles)\n",
    "_, plt = vol.rolling_extremes(window=window)\n",
    "_, plt = vol.rolling_descriptives(window=window)\n",
    "_, plt = vol.histogram(window=window, bins=bins, normed=normed)\n",
    "\n",
    "_, plt = vol.benchmark_compare(window=window)\n",
    "_, plt = vol.benchmark_correlation(window=window)"
   ]
  },
  {
   "cell_type": "code",
   "execution_count": 3,
   "id": "03cbe96e-3ab9-4dc0-8169-80d40754593c",
   "metadata": {},
   "outputs": [],
   "source": [
    "# ... or create a pdf term sheet with all metrics in term-sheets/\n",
    "vol.term_sheet(\n",
    "    window,\n",
    "    windows,\n",
    "    quantiles,\n",
    "    bins,\n",
    "    normed\n",
    ")"
   ]
  },
  {
   "cell_type": "code",
   "execution_count": 3,
   "id": "faa1ad5a-99b1-4a81-9253-5b909e42cc9f",
   "metadata": {},
   "outputs": [
    {
     "ename": "ImportError",
     "evalue": "cannot import name 'models' from 'volatility' (/opt/conda/lib/python3.8/site-packages/volatility/__init__.py)",
     "output_type": "error",
     "traceback": [
      "\u001b[0;31m---------------------------------------------------------------------------\u001b[0m",
      "\u001b[0;31mImportError\u001b[0m                               Traceback (most recent call last)",
      "\u001b[0;32m<ipython-input-3-cd6026e3417a>\u001b[0m in \u001b[0;36m<module>\u001b[0;34m\u001b[0m\n\u001b[0;32m----> 1\u001b[0;31m \u001b[0;32mfrom\u001b[0m \u001b[0mvolatility\u001b[0m \u001b[0;32mimport\u001b[0m \u001b[0mvolest\u001b[0m\u001b[0;34m\u001b[0m\u001b[0;34m\u001b[0m\u001b[0m\n\u001b[0m\u001b[1;32m      2\u001b[0m \u001b[0;32mfrom\u001b[0m \u001b[0mvolatility\u001b[0m \u001b[0;32mimport\u001b[0m \u001b[0mdata\u001b[0m\u001b[0;34m\u001b[0m\u001b[0;34m\u001b[0m\u001b[0m\n\u001b[1;32m      3\u001b[0m \u001b[0;32mfrom\u001b[0m \u001b[0mvolatility\u001b[0m\u001b[0;34m.\u001b[0m\u001b[0mmodels\u001b[0m \u001b[0;32mimport\u001b[0m \u001b[0mmodels\u001b[0m\u001b[0;34m\u001b[0m\u001b[0;34m\u001b[0m\u001b[0m\n\u001b[1;32m      4\u001b[0m \u001b[0;34m\u001b[0m\u001b[0m\n\u001b[1;32m      5\u001b[0m \u001b[0;31m# data\u001b[0m\u001b[0;34m\u001b[0m\u001b[0;34m\u001b[0m\u001b[0;34m\u001b[0m\u001b[0m\n",
      "\u001b[0;32m/opt/conda/lib/python3.8/site-packages/volatility/volest.py\u001b[0m in \u001b[0;36m<module>\u001b[0;34m\u001b[0m\n\u001b[1;32m     10\u001b[0m \u001b[0;32mfrom\u001b[0m \u001b[0mmatplotlib\u001b[0m\u001b[0;34m.\u001b[0m\u001b[0mbackends\u001b[0m\u001b[0;34m.\u001b[0m\u001b[0mbackend_pdf\u001b[0m \u001b[0;32mimport\u001b[0m \u001b[0mPdfPages\u001b[0m\u001b[0;34m\u001b[0m\u001b[0;34m\u001b[0m\u001b[0m\n\u001b[1;32m     11\u001b[0m \u001b[0;34m\u001b[0m\u001b[0m\n\u001b[0;32m---> 12\u001b[0;31m \u001b[0;32mfrom\u001b[0m \u001b[0mvolatility\u001b[0m \u001b[0;32mimport\u001b[0m \u001b[0mmodels\u001b[0m\u001b[0;34m\u001b[0m\u001b[0;34m\u001b[0m\u001b[0m\n\u001b[0m\u001b[1;32m     13\u001b[0m \u001b[0;34m\u001b[0m\u001b[0m\n\u001b[1;32m     14\u001b[0m ESTIMATORS = [\n",
      "\u001b[0;31mImportError\u001b[0m: cannot import name 'models' from 'volatility' (/opt/conda/lib/python3.8/site-packages/volatility/__init__.py)"
     ]
    }
   ],
   "source": []
  },
  {
   "cell_type": "code",
   "execution_count": null,
   "id": "d0335383-c2ec-4ead-8af8-7d08bf4aa00c",
   "metadata": {},
   "outputs": [],
   "source": []
  }
 ],
 "metadata": {
  "kernelspec": {
   "display_name": "Python 3",
   "language": "python",
   "name": "python3"
  },
  "language_info": {
   "codemirror_mode": {
    "name": "ipython",
    "version": 3
   },
   "file_extension": ".py",
   "mimetype": "text/x-python",
   "name": "python",
   "nbconvert_exporter": "python",
   "pygments_lexer": "ipython3",
   "version": "3.8.8"
  }
 },
 "nbformat": 4,
 "nbformat_minor": 5
}
